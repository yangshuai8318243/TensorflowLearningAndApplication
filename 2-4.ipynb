{
 "cells": [
  {
   "cell_type": "code",
   "execution_count": 1,
   "metadata": {},
   "outputs": [],
   "source": [
    "import tensorflow as tf;"
   ]
  },
  {
   "cell_type": "code",
   "execution_count": 5,
   "metadata": {},
   "outputs": [
    {
     "name": "stdout",
     "output_type": "stream",
     "text": [
      "0 [7.8127565, 1.1832321]\n",
      "20 [3.2522101, -1.4282047]\n",
      "40 [1.8470751, -0.7024158]\n",
      "60 [1.0682962, -0.3001536]\n",
      "80 [0.636667, -0.07720435]\n",
      "100 [0.39744148, 0.0463627]\n",
      "120 [0.26485348, 0.1148483]\n",
      "140 [0.19136813, 0.15280566]\n",
      "160 [0.15063973, 0.17384309]\n",
      "180 [0.1280665, 0.18550283]\n",
      "200 [0.11555554, 0.1919651]\n"
     ]
    }
   ],
   "source": [
    "import numpy as np\n",
    "\n",
    "# 使用numpy生成随机数\n",
    "\n",
    "x_data = np.random.rand(100)\n",
    "\n",
    "y_data = x_data*0.1+0.2\n",
    "\n",
    "# 构造一个线性模型\n",
    "b = tf.Variable(5.)\n",
    "k = tf.Variable(10.)\n",
    "y = k * x_data + b\n",
    "\n",
    "\n",
    "# 二次函数\n",
    "loss = tf.reduce_mean(tf.square(y_data-y))\n",
    "# 定义一个梯度下降优化器\n",
    "optimzer = tf.train.GradientDescentOptimizer(0.2)\n",
    "# 最小化代价函数\n",
    "train = optimzer.minimize(loss)\n",
    "# 初始变量\n",
    "init = tf.global_variables_initializer()\n",
    "with tf.Session() as sess:\n",
    "    sess.run(init)\n",
    "    for step in range(201):\n",
    "        sess.run(train)\n",
    "        if step%20 == 0:\n",
    "            print(step,sess.run([k,b]))\n"
   ]
  },
  {
   "cell_type": "code",
   "execution_count": null,
   "metadata": {},
   "outputs": [],
   "source": []
  }
 ],
 "metadata": {
  "kernelspec": {
   "display_name": "Python 3",
   "language": "python",
   "name": "python3"
  },
  "language_info": {
   "codemirror_mode": {
    "name": "ipython",
    "version": 3
   },
   "file_extension": ".py",
   "mimetype": "text/x-python",
   "name": "python",
   "nbconvert_exporter": "python",
   "pygments_lexer": "ipython3",
   "version": "3.7.4"
  }
 },
 "nbformat": 4,
 "nbformat_minor": 2
}
