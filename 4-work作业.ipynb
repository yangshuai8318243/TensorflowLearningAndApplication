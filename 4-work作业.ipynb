{
 "cells": [
  {
   "cell_type": "code",
   "execution_count": 1,
   "metadata": {},
   "outputs": [
    {
     "name": "stderr",
     "output_type": "stream",
     "text": [
      "WARNING: Logging before flag parsing goes to stderr.\n",
      "W0830 17:54:26.342063 13996 deprecation.py:323] From <ipython-input-1-97e564e6fcd2>:7: read_data_sets (from tensorflow.contrib.learn.python.learn.datasets.mnist) is deprecated and will be removed in a future version.\n",
      "Instructions for updating:\n",
      "Please use alternatives such as official/mnist/dataset.py from tensorflow/models.\n",
      "W0830 17:54:26.352579 13996 deprecation.py:323] From E:\\TensorFlow\\envs\\tensorflow\\lib\\site-packages\\tensorflow\\contrib\\learn\\python\\learn\\datasets\\mnist.py:260: maybe_download (from tensorflow.contrib.learn.python.learn.datasets.base) is deprecated and will be removed in a future version.\n",
      "Instructions for updating:\n",
      "Please write your own downloading logic.\n",
      "W0830 17:54:26.362578 13996 deprecation.py:323] From E:\\TensorFlow\\envs\\tensorflow\\lib\\site-packages\\tensorflow\\contrib\\learn\\python\\learn\\datasets\\mnist.py:262: extract_images (from tensorflow.contrib.learn.python.learn.datasets.mnist) is deprecated and will be removed in a future version.\n",
      "Instructions for updating:\n",
      "Please use tf.data to implement this functionality.\n"
     ]
    },
    {
     "name": "stdout",
     "output_type": "stream",
     "text": [
      "Extracting MNIST_data\\train-images-idx3-ubyte.gz\n"
     ]
    },
    {
     "name": "stderr",
     "output_type": "stream",
     "text": [
      "W0830 17:54:26.661755 13996 deprecation.py:323] From E:\\TensorFlow\\envs\\tensorflow\\lib\\site-packages\\tensorflow\\contrib\\learn\\python\\learn\\datasets\\mnist.py:267: extract_labels (from tensorflow.contrib.learn.python.learn.datasets.mnist) is deprecated and will be removed in a future version.\n",
      "Instructions for updating:\n",
      "Please use tf.data to implement this functionality.\n",
      "W0830 17:54:26.684790 13996 deprecation.py:323] From E:\\TensorFlow\\envs\\tensorflow\\lib\\site-packages\\tensorflow\\contrib\\learn\\python\\learn\\datasets\\mnist.py:110: dense_to_one_hot (from tensorflow.contrib.learn.python.learn.datasets.mnist) is deprecated and will be removed in a future version.\n",
      "Instructions for updating:\n",
      "Please use tf.one_hot on tensors.\n",
      "W0830 17:54:26.771243 13996 deprecation.py:323] From E:\\TensorFlow\\envs\\tensorflow\\lib\\site-packages\\tensorflow\\contrib\\learn\\python\\learn\\datasets\\mnist.py:290: DataSet.__init__ (from tensorflow.contrib.learn.python.learn.datasets.mnist) is deprecated and will be removed in a future version.\n",
      "Instructions for updating:\n",
      "Please use alternatives such as official/mnist/dataset.py from tensorflow/models.\n"
     ]
    },
    {
     "name": "stdout",
     "output_type": "stream",
     "text": [
      "Extracting MNIST_data\\train-labels-idx1-ubyte.gz\n",
      "Extracting MNIST_data\\t10k-images-idx3-ubyte.gz\n",
      "Extracting MNIST_data\\t10k-labels-idx1-ubyte.gz\n"
     ]
    },
    {
     "name": "stderr",
     "output_type": "stream",
     "text": [
      "W0830 17:54:27.151335 13996 deprecation.py:506] From <ipython-input-1-97e564e6fcd2>:30: calling dropout (from tensorflow.python.ops.nn_ops) with keep_prob is deprecated and will be removed in a future version.\n",
      "Instructions for updating:\n",
      "Please use `rate` instead of `keep_prob`. Rate should be set to `rate = 1 - keep_prob`.\n"
     ]
    },
    {
     "name": "stdout",
     "output_type": "stream",
     "text": [
      "Iter0,Testing Acc0.9249 Train acc:0.9212\n",
      "Iter1,Testing Acc0.9348 Train acc:0.9344909\n",
      "Iter2,Testing Acc0.9437 Train acc:0.94823635\n",
      "Iter3,Testing Acc0.9475 Train acc:0.95534545\n",
      "Iter4,Testing Acc0.9533 Train acc:0.9598909\n",
      "Iter5,Testing Acc0.9601 Train acc:0.96778184\n",
      "Iter6,Testing Acc0.9611 Train acc:0.9706182\n",
      "Iter7,Testing Acc0.9652 Train acc:0.97474545\n",
      "Iter8,Testing Acc0.9659 Train acc:0.9740546\n",
      "Iter9,Testing Acc0.9691 Train acc:0.9787818\n",
      "Iter10,Testing Acc0.9703 Train acc:0.98\n",
      "Iter11,Testing Acc0.9716 Train acc:0.9815636\n",
      "Iter12,Testing Acc0.9715 Train acc:0.98292726\n",
      "Iter13,Testing Acc0.9731 Train acc:0.98356366\n",
      "Iter14,Testing Acc0.9743 Train acc:0.98472726\n",
      "Iter15,Testing Acc0.9738 Train acc:0.98489094\n",
      "Iter16,Testing Acc0.9746 Train acc:0.9860909\n",
      "Iter17,Testing Acc0.9749 Train acc:0.9867091\n",
      "Iter18,Testing Acc0.9754 Train acc:0.987\n",
      "Iter19,Testing Acc0.9764 Train acc:0.98767275\n",
      "Iter20,Testing Acc0.9762 Train acc:0.98783636\n"
     ]
    }
   ],
   "source": [
    "import numpy as np\n",
    "import tensorflow as tf;\n",
    "import matplotlib.pylab as plt;\n",
    "\n",
    "import tensorflow.examples.tutorials.mnist.input_data as input_data \n",
    "# 载入数据\n",
    "mnist = input_data.read_data_sets(\"MNIST_data\",one_hot = True)\n",
    "\n",
    "# 每个批次的大小\n",
    "batch_size = 200;\n",
    "# 计算一共有多少批次\n",
    "n_batch = mnist.train.num_examples // batch_size;\n",
    "\n",
    "# 定义图片的站位数据\n",
    "x = tf.placeholder(tf.float32,[None,784])\n",
    "y = tf.placeholder(tf.float32,[None,10])\n",
    "\n",
    "# 创建神经网络\n",
    "# W = tf.Variable(tf.zeros([784,10]))\n",
    "# b = tf.Variable(tf.zeros([10]))\n",
    "\n",
    "keep_prob = tf.placeholder(tf.float32)\n",
    "\n",
    "\n",
    "# 初始化优化\n",
    "W1 = tf.Variable(tf.truncated_normal([784,2000],stddev = 0.1))\n",
    "b1 = tf.Variable(tf.zeros([2000])+0.1)\n",
    "Wx_plus_b_L1 = tf.matmul(x,W1) + b1;\n",
    "L1 = tf.tanh(Wx_plus_b_L1)\n",
    "L1_drop = tf.nn.dropout(L1,keep_prob)\n",
    "\n",
    "W2 = tf.Variable(tf.truncated_normal([2000,10],stddev = 0.1))\n",
    "b2 = tf.Variable(tf.zeros([10])+0.1)\n",
    "Wx_plus_b_L2 = tf.matmul(L1_drop,W2) + b2;\n",
    "L2 = tf.tanh(Wx_plus_b_L2)\n",
    "L2_drop = tf.nn.dropout(L2,keep_prob)\n",
    "\n",
    "# W3 = tf.Variable(tf.truncated_normal([2000,10],stddev = 0.1))\n",
    "# b3 = tf.Variable(tf.zeros([10])+0.1)\n",
    "# Wx_plus_b_L3 = tf.matmul(L2_drop,W3) + b3;\n",
    "# L3 = tf.tanh(Wx_plus_b_L3)\n",
    "# L3_drop = tf.nn.dropout(L3,keep_prob)\n",
    "\n",
    "# W4 = tf.Variable(tf.truncated_normal([1000,10],stddev = 0.1))\n",
    "# b4 = tf.Variable(tf.zeros([10])+0.1)\n",
    "# Wx_plus_b_L4 = tf.matmul(L3_drop,W4) + b4;\n",
    "perdiction = tf.tanh(Wx_plus_b_L2)\n",
    "\n",
    "# 定义二次函数 代价函数\n",
    "# loss = tf.reduce_mean(tf.square(y-perdiction))\n",
    "# 交叉熵优化\n",
    "loss = tf.reduce_mean(tf.nn.softmax_cross_entropy_with_logits_v2(labels=y,logits = perdiction))\n",
    "\n",
    "\n",
    "# 使用梯度下降\n",
    "# train_setp = tf.train.GradientDescentOptimizer(0.22).minimize(loss)\n",
    "# train_setp = tf.train.AdadeltaOptimizer().minimize(loss)\n",
    "train_setp = tf.train.AdadeltaOptimizer(learning_rate=1).minimize(loss)\n",
    "\n",
    "\n",
    "init = tf.global_variables_initializer()\n",
    "\n",
    "# 将返回最大的值放在一个一维张量中\n",
    "correct_prediction = tf.equal(tf.argmax(y,1),tf.argmax(perdiction,1))\n",
    "# 测试准确率\n",
    "accuracy = tf.reduce_mean(tf.cast(correct_prediction,tf.float32))\n",
    "\n",
    "with tf.Session() as sess:\n",
    "    sess.run(init)\n",
    "    for epoch in range(21):\n",
    "        for batch in range(n_batch):\n",
    "            batch_xs,batch_ys = mnist.train.next_batch(batch_size);\n",
    "            sess.run(train_setp,feed_dict={x:batch_xs,y:batch_ys,keep_prob:1.0})\n",
    "            \n",
    "            \n",
    "        test_acc = sess.run(accuracy,feed_dict={x:mnist.test.images,y:mnist.test.labels,keep_prob:1.0})\n",
    "        \n",
    "        train_acc = sess.run(accuracy,feed_dict={x:mnist.train.images,y:mnist.train.labels,keep_prob:1.0})\n",
    "        \n",
    "        print(\"Iter\" + str(epoch) + \",Testing Acc\"+ str(test_acc) + \" Train acc:\"+str(train_acc))"
   ]
  },
  {
   "cell_type": "code",
   "execution_count": null,
   "metadata": {},
   "outputs": [],
   "source": [
    "Iter0,Testing Acc0.9397 Train acc:0.9459636\n",
    "Iter1,Testing Acc0.9614 Train acc:0.96974546\n",
    "Iter2,Testing Acc0.9694 Train acc:0.97972727\n",
    "Iter3,Testing Acc0.9718 Train acc:0.9844\n",
    "Iter4,Testing Acc0.9754 Train acc:0.98801816\n",
    "Iter5,Testing Acc0.9756 Train acc:0.98972726\n",
    "Iter6,Testing Acc0.9779 Train acc:0.9914727\n",
    "Iter7,Testing Acc0.9778 Train acc:0.9921273\n",
    "Iter8,Testing Acc0.98 Train acc:0.99314547\n",
    "Iter9,Testing Acc0.9789 Train acc:0.99341816\n",
    "Iter10,Testing Acc0.9804 Train acc:0.99372727\n",
    "Iter11,Testing Acc0.9803 Train acc:0.99405456\n",
    "Iter12,Testing Acc0.98 Train acc:0.9940909\n",
    "Iter13,Testing Acc0.9806 Train acc:0.9941818\n",
    "Iter14,Testing Acc0.981 Train acc:0.99432725\n",
    "Iter15,Testing Acc0.9804 Train acc:0.9944\n",
    "Iter16,Testing Acc0.9811 Train acc:0.9946182\n",
    "Iter17,Testing Acc0.9812 Train acc:0.9948182\n",
    "Iter18,Testing Acc0.9793 Train acc:0.99503636\n",
    "Iter19,Testing Acc0.9809 Train acc:0.99496365\n",
    "Iter20,Testing Acc0.9811 Train acc:0.9950909"
   ]
  }
 ],
 "metadata": {
  "kernelspec": {
   "display_name": "Python 3",
   "language": "python",
   "name": "python3"
  },
  "language_info": {
   "codemirror_mode": {
    "name": "ipython",
    "version": 3
   },
   "file_extension": ".py",
   "mimetype": "text/x-python",
   "name": "python",
   "nbconvert_exporter": "python",
   "pygments_lexer": "ipython3",
   "version": "3.7.4"
  }
 },
 "nbformat": 4,
 "nbformat_minor": 2
}
