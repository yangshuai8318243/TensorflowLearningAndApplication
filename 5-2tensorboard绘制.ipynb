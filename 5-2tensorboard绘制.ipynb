{
 "cells": [
  {
   "cell_type": "code",
   "execution_count": 1,
   "metadata": {},
   "outputs": [
    {
     "name": "stderr",
     "output_type": "stream",
     "text": [
      "WARNING: Logging before flag parsing goes to stderr.\n",
      "W0827 16:48:44.953058 12976 deprecation.py:323] From <ipython-input-1-487025ad6e38>:11: read_data_sets (from tensorflow.contrib.learn.python.learn.datasets.mnist) is deprecated and will be removed in a future version.\n",
      "Instructions for updating:\n",
      "Please use alternatives such as official/mnist/dataset.py from tensorflow/models.\n",
      "W0827 16:48:44.959063 12976 deprecation.py:323] From E:\\TensorFlow\\envs\\tensorflow\\lib\\site-packages\\tensorflow\\contrib\\learn\\python\\learn\\datasets\\mnist.py:260: maybe_download (from tensorflow.contrib.learn.python.learn.datasets.base) is deprecated and will be removed in a future version.\n",
      "Instructions for updating:\n",
      "Please write your own downloading logic.\n",
      "W0827 16:48:44.960050 12976 deprecation.py:323] From E:\\TensorFlow\\envs\\tensorflow\\lib\\site-packages\\tensorflow\\contrib\\learn\\python\\learn\\datasets\\mnist.py:262: extract_images (from tensorflow.contrib.learn.python.learn.datasets.mnist) is deprecated and will be removed in a future version.\n",
      "Instructions for updating:\n",
      "Please use tf.data to implement this functionality.\n"
     ]
    },
    {
     "name": "stdout",
     "output_type": "stream",
     "text": [
      "Extracting MNIST_data\\train-images-idx3-ubyte.gz\n"
     ]
    },
    {
     "name": "stderr",
     "output_type": "stream",
     "text": [
      "W0827 16:48:45.200226 12976 deprecation.py:323] From E:\\TensorFlow\\envs\\tensorflow\\lib\\site-packages\\tensorflow\\contrib\\learn\\python\\learn\\datasets\\mnist.py:267: extract_labels (from tensorflow.contrib.learn.python.learn.datasets.mnist) is deprecated and will be removed in a future version.\n",
      "Instructions for updating:\n",
      "Please use tf.data to implement this functionality.\n",
      "W0827 16:48:45.202728 12976 deprecation.py:323] From E:\\TensorFlow\\envs\\tensorflow\\lib\\site-packages\\tensorflow\\contrib\\learn\\python\\learn\\datasets\\mnist.py:110: dense_to_one_hot (from tensorflow.contrib.learn.python.learn.datasets.mnist) is deprecated and will be removed in a future version.\n",
      "Instructions for updating:\n",
      "Please use tf.one_hot on tensors.\n",
      "W0827 16:48:45.251782 12976 deprecation.py:323] From E:\\TensorFlow\\envs\\tensorflow\\lib\\site-packages\\tensorflow\\contrib\\learn\\python\\learn\\datasets\\mnist.py:290: DataSet.__init__ (from tensorflow.contrib.learn.python.learn.datasets.mnist) is deprecated and will be removed in a future version.\n",
      "Instructions for updating:\n",
      "Please use alternatives such as official/mnist/dataset.py from tensorflow/models.\n"
     ]
    },
    {
     "name": "stdout",
     "output_type": "stream",
     "text": [
      "Extracting MNIST_data\\train-labels-idx1-ubyte.gz\n",
      "Extracting MNIST_data\\t10k-images-idx3-ubyte.gz\n",
      "Extracting MNIST_data\\t10k-labels-idx1-ubyte.gz\n",
      "Iter0,Testing Acc0.8119\n"
     ]
    }
   ],
   "source": [
    "import numpy as np\n",
    "import tensorflow as tf;\n",
    "import matplotlib.pylab as plt;\n",
    "\n",
    "import tensorflow.examples.tutorials.mnist.input_data as input_data \n",
    "\n",
    "\n",
    "\n",
    "\n",
    "# 载入数据\n",
    "mnist = input_data.read_data_sets(\"MNIST_data\",one_hot = True)\n",
    "\n",
    "# 每个批次的大小\n",
    "batch_size = 200;\n",
    "# 计算一共有多少批次\n",
    "n_batch = mnist.train.num_examples // batch_size;\n",
    "# 定义命名空间\n",
    "with tf.name_scope(\"input\"):\n",
    "    # 定义图片的站位数据\n",
    "    x = tf.placeholder(tf.float32,[None,784],name=\"x-input\")\n",
    "    y = tf.placeholder(tf.float32,[None,10],name=\"y-input\")\n",
    "\n",
    "with tf.name_scope(\"layer\"):\n",
    "    # 创建神经网络\n",
    "    with tf.name_scope(\"wights\"):\n",
    "        W = tf.Variable(tf.ones([784,10]),name=\"W\")\n",
    "    with tf.name_scope(\"biases\"):\n",
    "        b = tf.Variable(tf.ones([10]))\n",
    "    with tf.name_scope(\"wx_plus_b\"):\n",
    "        wx_plus_b = tf.matmul(x,W)+b\n",
    "    with tf.name_scope(\"softmax\"): \n",
    "        perdiction = tf.nn.softmax(wx_plus_b)\n",
    "\n",
    "# prediction = tf.tanh(Wx_plus_b_L2) 卷积神经网络 CNN\n",
    "# perdiction = tf.nn.softmax(Wx_plus_b_L2)\n",
    "\n",
    "\n",
    "# 定义二次函数 代价函数\n",
    "# loss = tf.reduce_mean(tf.square(y-perdiction))\n",
    "with tf.name_scope(\"loss\"): \n",
    "    # 交叉熵优化\n",
    "    loss = tf.reduce_mean(tf.nn.softmax_cross_entropy_with_logits_v2(labels=y,logits = perdiction))\n",
    "with tf.name_scope(\"train_setp\"): \n",
    "    # 使用梯度下降\n",
    "    train_setp = tf.train.GradientDescentOptimizer(0.22).minimize(loss)\n",
    "\n",
    "init = tf.global_variables_initializer()\n",
    "with tf.name_scope(\"accuracy\"): \n",
    "    with tf.name_scope(\"correct_prediction\"): \n",
    "        # 将返回最大的值放在一个一维张量中\n",
    "        correct_prediction = tf.equal(tf.argmax(y,1),tf.argmax(perdiction,1))\n",
    "    with tf.name_scope(\"accuracy\"): \n",
    "        # 测试准确率\n",
    "        accuracy = tf.reduce_mean(tf.cast(correct_prediction,tf.float32))\n",
    "\n",
    "with tf.Session() as sess:\n",
    "    sess.run(init)\n",
    "    writer = tf.summary.FileWriter(\"logs/\",sess.graph)\n",
    "    for epoch in range(1):\n",
    "        for batch in range(n_batch):\n",
    "            batch_xs,batch_ys = mnist.train.next_batch(batch_size);\n",
    "            sess.run(train_setp,feed_dict={x:batch_xs,y:batch_ys})\n",
    "            \n",
    "            \n",
    "        acc = sess.run(accuracy,feed_dict={x:mnist.test.images,y:mnist.test.labels})\n",
    "        print(\"Iter\" + str(epoch) + \",Testing Acc\"+ str(acc))"
   ]
  },
  {
   "cell_type": "code",
   "execution_count": null,
   "metadata": {},
   "outputs": [],
   "source": []
  }
 ],
 "metadata": {
  "kernelspec": {
   "display_name": "Python 3",
   "language": "python",
   "name": "python3"
  },
  "language_info": {
   "codemirror_mode": {
    "name": "ipython",
    "version": 3
   },
   "file_extension": ".py",
   "mimetype": "text/x-python",
   "name": "python",
   "nbconvert_exporter": "python",
   "pygments_lexer": "ipython3",
   "version": "3.7.4"
  }
 },
 "nbformat": 4,
 "nbformat_minor": 2
}
