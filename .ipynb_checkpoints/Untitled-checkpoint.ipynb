{
 "cells": [
  {
   "cell_type": "code",
   "execution_count": 6,
   "metadata": {},
   "outputs": [
    {
     "name": "stdout",
     "output_type": "stream",
     "text": [
      "2345678\n"
     ]
    }
   ],
   "source": [
    "# import tensorflow as tf\n",
    " \n",
    "# x = [[1,2,3],\n",
    "#       [2,2,2],\n",
    "#      [6,6,6]]\n",
    " \n",
    "# xx = tf.cast(x,tf.float32)\n",
    " \n",
    "# mean_all = tf.reduce_mean(xx, keep_dims=False)\n",
    "# mean_0 = tf.reduce_mean(xx, axis=0, keep_dims=False)\n",
    "# mean_1 = tf.reduce_mean(xx, axis=1, keep_dims=False)\n",
    " \n",
    "# A = [1.0,7.0,7.0]\n",
    "\n",
    "# a = tf.constant([10, 20])\n",
    "# b = tf.constant([1.0, 2.0])\n",
    "# str = \"123456789\"\n",
    "# print(str[1:-2])\n",
    "\n",
    "# a = tf.constant([[1,2,3],[3,4,5]]) # shape (2,3)\n",
    "# b = tf.constant([[7,8,9],[10,11,12]]) # shape (2,3)\n",
    "# ab = tf.stack([a,b], axis=0) # shape (2,2,3)\n",
    "\n",
    "# with tf.Session() as sess:\n",
    "#     m_a,m_0,m_1 = sess.run([mean_all, mean_0, mean_1])\n",
    "    \n",
    "#     print(\"-----------a-----------\")\n",
    "#     print(sess.run(a))\n",
    "#     print(\"----------b------------\")\n",
    "#     print(sess.run(b))\n",
    "#     print(\"----------ab-----------\")\n",
    "#     print(sess.run(ab))\n",
    "str = \"123456789\"\n",
    "print(str[1:-1])\n",
    "if 122 :\n",
    "    print()\n",
    "\n"
   ]
  },
  {
   "cell_type": "code",
   "execution_count": null,
   "metadata": {},
   "outputs": [],
   "source": []
  },
  {
   "cell_type": "code",
   "execution_count": null,
   "metadata": {},
   "outputs": [],
   "source": []
  }
 ],
 "metadata": {
  "kernelspec": {
   "display_name": "Python 3",
   "language": "python",
   "name": "python3"
  },
  "language_info": {
   "codemirror_mode": {
    "name": "ipython",
    "version": 3
   },
   "file_extension": ".py",
   "mimetype": "text/x-python",
   "name": "python",
   "nbconvert_exporter": "python",
   "pygments_lexer": "ipython3",
   "version": "3.7.4"
  }
 },
 "nbformat": 4,
 "nbformat_minor": 2
}
