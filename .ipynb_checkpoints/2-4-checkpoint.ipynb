{
 "cells": [
  {
   "cell_type": "code",
   "execution_count": 1,
   "metadata": {},
   "outputs": [],
   "source": [
    "import tensorflow as tf;"
   ]
  },
  {
   "cell_type": "code",
   "execution_count": 4,
   "metadata": {},
   "outputs": [
    {
     "name": "stdout",
     "output_type": "stream",
     "text": [
      "0 [0.05641867, 0.10086904]\n",
      "20 [0.10512088, 0.19711694]\n",
      "40 [0.102824256, 0.19840999]\n",
      "60 [0.10155762, 0.19912307]\n",
      "80 [0.10085904, 0.19951637]\n",
      "100 [0.100473754, 0.19973329]\n",
      "120 [0.10026129, 0.19985288]\n",
      "140 [0.1001441, 0.19991887]\n",
      "160 [0.10007947, 0.19995525]\n",
      "180 [0.10004384, 0.19997531]\n",
      "200 [0.100024186, 0.19998638]\n"
     ]
    }
   ],
   "source": [
    "import numpy as np\n",
    "\n",
    "# 使用numpy生成随机数\n",
    "\n",
    "x_data = np.random.rand(100)\n",
    "\n",
    "y_data = x_data*0.1+0.2\n",
    "\n",
    "# 构造一个线性模型\n",
    "b = tf.Variable(5.)\n",
    "k = tf.Variable(10.)\n",
    "y = k * x_data + b\n",
    "\n",
    "\n",
    "# 二次函数\n",
    "loss = tf.reduce_mean(tf.square(y_data-y))\n",
    "# 定义一个梯度下降优化器\n",
    "optimzer = tf.train.GradientDescentOptimizer(0.2)\n",
    "# 最小化代价函数\n",
    "train = optimzer.minimize(loss)\n",
    "# 初始变量\n",
    "init = tf.global_variables_initializer()\n",
    "with tf.Session() as sess:\n",
    "    sess.run(init)\n",
    "    for step in range(201):\n",
    "        sess.run(train)\n",
    "        if step%20 == 0:\n",
    "            print(step,sess.run([k,b]))\n"
   ]
  },
  {
   "cell_type": "code",
   "execution_count": null,
   "metadata": {},
   "outputs": [],
   "source": []
  }
 ],
 "metadata": {
  "kernelspec": {
   "display_name": "Python 3",
   "language": "python",
   "name": "python3"
  },
  "language_info": {
   "codemirror_mode": {
    "name": "ipython",
    "version": 3
   },
   "file_extension": ".py",
   "mimetype": "text/x-python",
   "name": "python",
   "nbconvert_exporter": "python",
   "pygments_lexer": "ipython3",
   "version": "3.7.4"
  }
 },
 "nbformat": 4,
 "nbformat_minor": 2
}
