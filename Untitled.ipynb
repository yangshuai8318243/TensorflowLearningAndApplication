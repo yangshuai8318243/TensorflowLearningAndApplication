{
 "cells": [
  {
   "cell_type": "code",
   "execution_count": 10,
   "metadata": {},
   "outputs": [
    {
     "name": "stdout",
     "output_type": "stream",
     "text": [
      "[0.00123784 0.49938112 0.49938112]\n"
     ]
    }
   ],
   "source": [
    "import tensorflow as tf\n",
    " \n",
    "x = [[1,2,3],\n",
    "      [2,2,2],\n",
    "     [6,6,6]]\n",
    " \n",
    "xx = tf.cast(x,tf.float32)\n",
    " \n",
    "mean_all = tf.reduce_mean(xx, keep_dims=False)\n",
    "mean_0 = tf.reduce_mean(xx, axis=0, keep_dims=False)\n",
    "mean_1 = tf.reduce_mean(xx, axis=1, keep_dims=False)\n",
    " \n",
    "A = [1.0,7.0,7.0]\n",
    "\n",
    "with tf.Session() as sess:\n",
    "    m_a,m_0,m_1 = sess.run([mean_all, mean_0, mean_1])\n",
    "    print(sess.run(tf.nn.softmax(A)))\n",
    "#     print(m_a)    # output: 2.0\n",
    "#     print(m_0)   # output: [ 1.  2.  3.]\n",
    "#     print(m_1)    #output:  [ 2.  2.]\n"
   ]
  },
  {
   "cell_type": "code",
   "execution_count": null,
   "metadata": {},
   "outputs": [],
   "source": []
  }
 ],
 "metadata": {
  "kernelspec": {
   "display_name": "Python 3",
   "language": "python",
   "name": "python3"
  },
  "language_info": {
   "codemirror_mode": {
    "name": "ipython",
    "version": 3
   },
   "file_extension": ".py",
   "mimetype": "text/x-python",
   "name": "python",
   "nbconvert_exporter": "python",
   "pygments_lexer": "ipython3",
   "version": "3.7.4"
  }
 },
 "nbformat": 4,
 "nbformat_minor": 2
}
